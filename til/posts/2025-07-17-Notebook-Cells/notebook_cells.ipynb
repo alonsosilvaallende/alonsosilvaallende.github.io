{
 "cells": [
  {
   "cell_type": "raw",
   "id": "95745ca1-9d58-46a7-93cd-a7aa77b4c77b",
   "metadata": {},
   "source": [
    "---\n",
    "title: \"How to add notebook cells to Quarto projects\"\n",
    "author: \"Alonso Silva\"\n",
    "date: \"2025-07-17\"\n",
    "image: ./assets/Quarto_Pyodide.jpg\n",
    "categories:\n",
    "  - code\n",
    "  - analysis\n",
    "filters:\n",
    "  - pyodide\n",
    "---"
   ]
  },
  {
   "cell_type": "markdown",
   "id": "562b2832-6677-4740-8f06-35d5975f9895",
   "metadata": {},
   "source": [
    "TIL how to add notebook cells to [Quarto](https://quarto.org/) projects such as the following two dependent cells:\n",
    "\n",
    "- In the first notebook cell, we import the required packages and define $x$ and $y$: \n",
    "\n",
    "```{pyodide-python}\n",
    "import numpy as np\n",
    "import matplotlib.pyplot as plt\n",
    "\n",
    "step = .1\n",
    "x = np.arange(0,10+step,step)\n",
    "y = x**2\n",
    "```\n",
    "\n",
    "- In the second notebook cell, we plot $y$ vs $x$ (and add a zoom to the beginning of the plot):\n",
    "\n",
    "```{pyodide-python}\n",
    "fig, ax = plt.subplots(figsize=[6, 4])\n",
    "ax.plot(x,y)\n",
    "axins = ax.inset_axes([0.1, 0.5, 0.4, 0.4])\n",
    "axins.plot(x[:10],y[:10])\n",
    "ax.indicate_inset_zoom(axins)\n",
    "plt.show()\n",
    "```"
   ]
  },
  {
   "cell_type": "markdown",
   "id": "5dc34338-fd94-42b7-b2f7-1969c724313f",
   "metadata": {},
   "source": [
    "Notice that you can change the code inside the cells and run them again! Try it!"
   ]
  },
  {
   "cell_type": "markdown",
   "id": "1d2869b1-81be-45d1-bf44-49be38bb097f",
   "metadata": {},
   "source": [
    "## Instructions"
   ]
  },
  {
   "cell_type": "markdown",
   "id": "4156e428-6955-469b-9f3a-b43cd84fd37a",
   "metadata": {},
   "source": [
    "1. Install [uv](https://docs.astral.sh/uv/) (if you haven't yet):\n",
    "```{.bash filename=\"Terminal\"}\n",
    "curl -LsSf https://astral.sh/uv/install.sh | sh\n",
    "```"
   ]
  },
  {
   "cell_type": "markdown",
   "id": "3ebdf7b3-4f1c-4b3f-ba91-98f0c2d59a48",
   "metadata": {},
   "source": [
    "2. Create a [Quarto](https://quarto.org/) project (if you haven't yet):\n",
    "```{.bash filename=\"Terminal\"}\n",
    "uvx --from quarto-cli quarto create project\n",
    "```\n",
    "\n",
    "Here are some example configuration options:\n",
    "\n",
    "![](./assets/Quarto_00.jpg){width=80%}"
   ]
  },
  {
   "cell_type": "markdown",
   "id": "6aa7a823-cdb3-4a51-aca4-ec2bd35fcea2",
   "metadata": {},
   "source": [
    "3. Enter into the project folder and add the {quarto-pyodide} extension:\n",
    "```{.bash filename=\"Terminal\"}\n",
    "uvx --from quarto-cli quarto add coatless-quarto/pyodide\n",
    "``` "
   ]
  },
  {
   "cell_type": "markdown",
   "id": "ed88aef3-718f-4381-8014-c0e2cc92f6a1",
   "metadata": {},
   "source": [
    "![](./assets/Quarto_01.jpg){width=80%}"
   ]
  },
  {
   "cell_type": "markdown",
   "id": "9e41a198-5fda-4b43-a9d5-740406800a3e",
   "metadata": {},
   "source": [
    "4. Edit the `index.qmd` file (this is an example):\n",
    "````{.default filename=\"index.qmd\"}\n",
    "---\n",
    "title: \"test-quarto-pyodide\"\n",
    "filters:\n",
    "  - pyodide\n",
    "---\n",
    "```{pyodide-python}\n",
    "import numpy as np\n",
    "import matplotlib.pyplot as plt\n",
    "\n",
    "step = .1\n",
    "x = np.arange(0,10+step,step)\n",
    "y = x**2\n",
    "```\n",
    "\n",
    "```{pyodide-python}\n",
    "fig, ax = plt.subplots(figsize=[6, 4])\n",
    "ax.plot(x,y)\n",
    "axins = ax.inset_axes([0.1, 0.5, 0.4, 0.4])\n",
    "axins.plot(x[:10],y[:10])\n",
    "ax.indicate_inset_zoom(axins)\n",
    "plt.show()\n",
    "```\n",
    "````"
   ]
  },
  {
   "cell_type": "markdown",
   "id": "dfa15402-8fbc-4cd1-8895-207c5c0c3b26",
   "metadata": {},
   "source": [
    "(Optional) Change the Pyodide version in the file `_extensions/coatless-quarto/pyodide/qpyodide.lua` (the latest version with Python 3.12 is version 0.27.7):"
   ]
  },
  {
   "cell_type": "markdown",
   "id": "0a5e1d8c-466a-4398-8516-7cdc2fdb1b14",
   "metadata": {},
   "source": [
    "![](./assets/Quarto_02.jpg){width=60%}"
   ]
  },
  {
   "cell_type": "markdown",
   "id": "320b6093-f598-4763-841f-7dcda5647c1d",
   "metadata": {},
   "source": [
    "The Python version can be obtained in a notebook cell (for example, run the notebook cell below):"
   ]
  },
  {
   "cell_type": "markdown",
   "id": "99545d02-847e-48e1-b2de-2ff229b0d6b1",
   "metadata": {},
   "source": [
    "```{pyodide-python}\n",
    "import platform\n",
    "\n",
    "print(f\"Python version: {platform.python_version()}\")\n",
    "```"
   ]
  },
  {
   "cell_type": "markdown",
   "id": "146e827b-d198-472d-9971-5562594b39fe",
   "metadata": {},
   "source": [
    "5. Preview the project:\n",
    "```{.bash filename=\"Terminal\"}\n",
    "uvx --with marimo --from quarto-cli quarto preview\n",
    "```\n",
    "\n",
    "\n",
    "6. Deploy it (for example to GitHub pages), the command is the following:\n",
    "```{.bash filename=\"Terminal\"}\n",
    "uvx --with marimo --from quarto-cli quarto publish\n",
    "```\n",
    "\n",
    "![](./assets/Quarto_03.jpg){width=80%}"
   ]
  },
  {
   "cell_type": "markdown",
   "id": "79f24f8a-f287-48db-b68d-db1a62a1e6f5",
   "metadata": {},
   "source": [
    "## Conclusions\n",
    "\n",
    "If you have read [my previous post](https://alonsosilvaallende.github.io/til/posts/2025-06-15-Embed_REPL/Embed_REPL.html),\n",
    "you know I am very excited that we can now embed a single executable cell inside a website.\n",
    "You can also embed a [whole notebook](https://jupyterlite-sphinx.readthedocs.io/en/stable/full.html#tips-for-handling-urls)\n",
    "inside a website.\n",
    "In [another post](https://alonsosilvaallende.github.io/til/posts/2025-06-29-Quarto-Marimo/marimo.html), I explained how to add marimo notebook cells to a [Quarto](https://quarto.org/) project.\n",
    "However, I love the idea of adding many dependent executable cells to a website such as with this Quarto extension."
   ]
  },
  {
   "cell_type": "code",
   "execution_count": null,
   "id": "144ce136-58dc-4a1c-9e53-369eeb51d82a",
   "metadata": {},
   "outputs": [],
   "source": []
  }
 ],
 "metadata": {
  "kernelspec": {
   "display_name": "Python 3 (ipykernel)",
   "language": "python",
   "name": "python3"
  },
  "language_info": {
   "codemirror_mode": {
    "name": "ipython",
    "version": 3
   },
   "file_extension": ".py",
   "mimetype": "text/x-python",
   "name": "python",
   "nbconvert_exporter": "python",
   "pygments_lexer": "ipython3",
   "version": "3.12.4"
  }
 },
 "nbformat": 4,
 "nbformat_minor": 5
}
