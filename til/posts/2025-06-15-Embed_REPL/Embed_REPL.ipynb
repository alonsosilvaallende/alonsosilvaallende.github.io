{
 "cells": [
  {
   "cell_type": "raw",
   "id": "9d987b28-9c98-4780-94a1-8190036d152f",
   "metadata": {},
   "source": [
    "---\n",
    "title: Embed live REPL on a website\n",
    "author: Alonso Silva\n",
    "date: '2025-06-15'\n",
    "categories:\n",
    "  - code\n",
    "image: JupyterLite-logo.jpg\n",
    "---"
   ]
  },
  {
   "cell_type": "markdown",
   "id": "1eb41b64-618e-43a5-b808-e600addb9fd1",
   "metadata": {},
   "source": [
    "TIL that it's possible to embed a live REPL on a website. This is possible thanks to [JupyterLite](https://jupyterlite.readthedocs.io/en/latest/index.html).\n",
    "\n",
    "You can write some code:"
   ]
  },
  {
   "cell_type": "code",
   "execution_count": 1,
   "id": "fbce4366-6713-46ee-bc72-bf9e44b1110c",
   "metadata": {
    "execution": {
     "iopub.execute_input": "2025-06-15T19:20:38.599264Z",
     "iopub.status.busy": "2025-06-15T19:20:38.598478Z",
     "iopub.status.idle": "2025-06-15T19:20:38.604054Z",
     "shell.execute_reply": "2025-06-15T19:20:38.603146Z",
     "shell.execute_reply.started": "2025-06-15T19:20:38.599213Z"
    }
   },
   "outputs": [],
   "source": [
    "#| echo: true\n",
    "code_str = \"\"\"\n",
    "import numpy as np\n",
    "\n",
    "np.random.randint(10, size=5)\"\"\""
   ]
  },
  {
   "cell_type": "markdown",
   "id": "63cf85ee-b867-4788-936d-1f208680bce1",
   "metadata": {},
   "source": [
    "You can use `urllib.parse.quote`, which handles special characters as needed for URLs:"
   ]
  },
  {
   "cell_type": "code",
   "execution_count": 2,
   "id": "4f8c15b4-fad2-42f0-9d6a-35227474289b",
   "metadata": {
    "execution": {
     "iopub.execute_input": "2025-06-15T19:20:38.605605Z",
     "iopub.status.busy": "2025-06-15T19:20:38.605164Z",
     "iopub.status.idle": "2025-06-15T19:20:38.638658Z",
     "shell.execute_reply": "2025-06-15T19:20:38.637692Z",
     "shell.execute_reply.started": "2025-06-15T19:20:38.605558Z"
    }
   },
   "outputs": [],
   "source": [
    "#| echo: true\n",
    "import urllib.parse\n",
    "\n",
    "code = urllib.parse.quote(code_str)"
   ]
  },
  {
   "cell_type": "markdown",
   "id": "78fa9be1-f4b1-4555-8f58-b97b222731c9",
   "metadata": {},
   "source": [
    "Then you can then use the public facing [https://jupyterlite.github.io/demo/repl](https://jupyterlite.github.io/demo/repl) as an example and embed a live REPL on a website:"
   ]
  },
  {
   "cell_type": "code",
   "execution_count": 5,
   "id": "d1eacc45-b15d-408c-9a10-219e5d8eea84",
   "metadata": {
    "execution": {
     "iopub.execute_input": "2025-06-15T19:24:23.329918Z",
     "iopub.status.busy": "2025-06-15T19:24:23.329291Z",
     "iopub.status.idle": "2025-06-15T19:24:23.339509Z",
     "shell.execute_reply": "2025-06-15T19:24:23.338181Z",
     "shell.execute_reply.started": "2025-06-15T19:24:23.329868Z"
    }
   },
   "outputs": [
    {
     "data": {
      "text/html": [
       "\n",
       "        <iframe\n",
       "            width=\"850\"\n",
       "            height=\"200\"\n",
       "            src=\"https://jupyterlite.github.io/demo/repl/index.html?toolbar=1&kernel=python&promptCellPosition=left&code=%0Aimport%20numpy%20as%20np%0A%0Anp.random.randint%2810%2C%20size%3D5%29&execute=0\"\n",
       "            frameborder=\"0\"\n",
       "            allowfullscreen\n",
       "            \n",
       "        ></iframe>\n",
       "        "
      ],
      "text/plain": [
       "<IPython.lib.display.IFrame at 0x74edc822d250>"
      ]
     },
     "execution_count": 5,
     "metadata": {},
     "output_type": "execute_result"
    }
   ],
   "source": [
    "#| echo: true\n",
    "from IPython.display import IFrame\n",
    "\n",
    "IFrame(f\"https://jupyterlite.github.io/demo/repl/index.html?toolbar=1&kernel=python&promptCellPosition=left&code={code}&execute=0\", width=850, height=200)"
   ]
  },
  {
   "cell_type": "markdown",
   "id": "e92b86b3-a900-481e-9e6d-3521881385a7",
   "metadata": {},
   "source": [
    "There are several [configuration options](https://jupyterlite.readthedocs.io/en/latest/quickstart/embed-repl.html).\n",
    "\n",
    "I find this very cool especially for writing tutorials and blog posts."
   ]
  }
 ],
 "metadata": {
  "jupytext": {
   "formats": "ipynb,qmd"
  },
  "kernelspec": {
   "display_name": "Python 3 (ipykernel)",
   "language": "python",
   "name": "python3"
  },
  "language_info": {
   "codemirror_mode": {
    "name": "ipython",
    "version": 3
   },
   "file_extension": ".py",
   "mimetype": "text/x-python",
   "name": "python",
   "nbconvert_exporter": "python",
   "pygments_lexer": "ipython3",
   "version": "3.12.4"
  }
 },
 "nbformat": 4,
 "nbformat_minor": 5
}
