{
 "cells": [
  {
   "cell_type": "raw",
   "id": "26873561-5341-437e-9eba-dc8406e5df14",
   "metadata": {},
   "source": [
    "---\n",
    "title: \"Understanding Function Calling\"\n",
    "author: \"Alonso Silva\"\n",
    "date: \"2025-07-05\"\n",
    "categories: [code, analysis]\n",
    "filters:\n",
    "  - pyodide\n",
    "format:\n",
    "    html:\n",
    "        code-tools: true\n",
    "        code-fold: false\n",
    "---"
   ]
  },
  {
   "cell_type": "markdown",
   "id": "33dace9d-dca0-41a1-9813-aa75f2ce79f3",
   "metadata": {},
   "source": [
    "Language models take **text** as input and predict which **text** should come next. Taking that into consideration, what does _function calling_ even mean?\n",
    "\n",
    "In this post, I start by providing a basic example to motivate function calling, then I give a slightly more complex example by allowing a small language model to use Python. After that, I explain the *conversational response as a tool* trick. Finally, I explain how to do function calling in WebAssembly (optional but fun if you want to try function calling in the browser in this post itself)."
   ]
  },
  {
   "cell_type": "markdown",
   "id": "3bd313ac-564a-40c4-8e2c-1ca5ad875f54",
   "metadata": {},
   "source": [
    "## Basic example"
   ]
  },
  {
   "attachments": {},
   "cell_type": "markdown",
   "id": "dc903bbf-25e0-45c1-9b78-e7018b55876f",
   "metadata": {},
   "source": [
    "Let's start with a basic example. Imagine that we ask a language model to perform the multiplication of `1234567` times `8765432` whose result is:"
   ]
  },
  {
   "cell_type": "code",
   "execution_count": 1,
   "id": "e05e9013-e994-4ea2-95ba-fcb82a65def4",
   "metadata": {
    "execution": {
     "iopub.execute_input": "2025-07-05T12:59:52.233825Z",
     "iopub.status.busy": "2025-07-05T12:59:52.233192Z",
     "iopub.status.idle": "2025-07-05T12:59:52.239696Z",
     "shell.execute_reply": "2025-07-05T12:59:52.238743Z",
     "shell.execute_reply.started": "2025-07-05T12:59:52.233776Z"
    }
   },
   "outputs": [],
   "source": [
    "#| echo: false\n",
    "import warnings\n",
    "warnings.filterwarnings(\"ignore\")"
   ]
  },
  {
   "cell_type": "code",
   "execution_count": 2,
   "id": "8cd894aa-e1db-488c-affd-60f683161a9c",
   "metadata": {
    "execution": {
     "iopub.execute_input": "2025-07-05T12:59:53.541193Z",
     "iopub.status.busy": "2025-07-05T12:59:53.540556Z",
     "iopub.status.idle": "2025-07-05T12:59:53.547029Z",
     "shell.execute_reply": "2025-07-05T12:59:53.545990Z",
     "shell.execute_reply.started": "2025-07-05T12:59:53.541146Z"
    }
   },
   "outputs": [
    {
     "name": "stdout",
     "output_type": "stream",
     "text": [
      "10,821,513,087,944\n"
     ]
    }
   ],
   "source": [
    "#| echo: true\n",
    "print(f\"{1234567*8765432:,}\")"
   ]
  },
  {
   "cell_type": "markdown",
   "id": "6631518c-5028-4f91-9dbb-7311fcfde2c1",
   "metadata": {},
   "source": [
    "This is the answer of the language model:"
   ]
  },
  {
   "cell_type": "code",
   "execution_count": 5,
   "id": "163b0eb2-9aa8-4ce4-adcb-bf601a91d91c",
   "metadata": {
    "execution": {
     "iopub.execute_input": "2025-07-05T13:05:41.031775Z",
     "iopub.status.busy": "2025-07-05T13:05:41.031134Z",
     "iopub.status.idle": "2025-07-05T13:06:10.688931Z",
     "shell.execute_reply": "2025-07-05T13:06:10.688159Z",
     "shell.execute_reply.started": "2025-07-05T13:05:41.031728Z"
    }
   },
   "outputs": [
    {
     "name": "stdout",
     "output_type": "stream",
     "text": [
      "To find the product of **1234567 × 8765432**, we can use a calculator or a multiplication table. However, since this is a large number, it's best to use a calculator or a computational tool.\n",
      "\n",
      "### Final Answer:\n",
      "$$\n",
      "1234567 \\times 8765432 = \\boxed{1099999999999999999999999999999999999999999999999999999999999999999999999999999999999999999999999999999999999999999999999999999999999999999999999999999999999999999999999999999999999999999999999999999999999999999999999999999999999999999999999999999999999999999999999999999999999999999999999999999999999999999999999999999999999999999999999999999999999999999999999999999999999999999999999999999999999999999999999999999999999999999999999999999999999999999999999999999999999999999999999999999999999999999999999999999999999999999999999999999999999999999999999999999999999999999999999999999999999999999999999999999999999999999999999999999999999999999999999999999999999999999999999999999999999999999999999999999999999999999999999999999999999999999999999999999999999999999999999999999999999999999999999999999999999999999999999999999999999999999999999999999999999999999999999999999999999999999999999999999999999999999999999999999999999999999999999999999\n"
     ]
    }
   ],
   "source": [
    "#| code-fold: true\n",
    "#| code-summary: \"Show the code\"\n",
    "from transformers import AutoModelForCausalLM, AutoTokenizer\n",
    "\n",
    "model_id = \"Qwen/Qwen3-0.6B\"\n",
    "tokenizer = AutoTokenizer.from_pretrained(model_id)\n",
    "model = AutoModelForCausalLM.from_pretrained(\n",
    "    model_id, cache_dir=\"/big_storage/llms/hf_models/\"\n",
    ").to(\"cuda\")\n",
    "\n",
    "messages = [\n",
    "    {\"role\": \"user\", \"content\": \"What's 1234567 times 8765432?\"},\n",
    "]\n",
    "\n",
    "prompt = tokenizer.apply_chat_template(\n",
    "    messages, tokenize=False, add_generation_prompt=True, enable_thinking=False\n",
    ")\n",
    "model_inputs = tokenizer(prompt, return_tensors=\"pt\").to(\"cuda\")\n",
    "prompt_length = model_inputs[\"input_ids\"].shape[1]\n",
    "outputs = model.generate(\n",
    "    **model_inputs,\n",
    "    max_new_tokens=1024,\n",
    "    do_sample=False,\n",
    "    temperature=1.0,\n",
    "    top_p=1.0,\n",
    "    top_k=50,\n",
    ")\n",
    "assistant_response = tokenizer.decode(outputs[0][prompt_length:])\n",
    "print(assistant_response)"
   ]
  },
  {
   "cell_type": "markdown",
   "id": "053f009d-56bc-48db-a4ee-50eb7c919c88",
   "metadata": {},
   "source": [
    "This model is not particularly good but even GPT-4o-mini fails without using function calling:"
   ]
  },
  {
   "cell_type": "markdown",
   "id": "f3ec4275-3d51-40f0-a0c9-eecda0537cc5",
   "metadata": {},
   "source": [
    "![](ChatGPT-multiplication.jpg)"
   ]
  },
  {
   "cell_type": "markdown",
   "id": "66716533-8301-46d0-8af0-c4c9dbba1b1b",
   "metadata": {},
   "source": [
    "Here is the [link to that conversation](https://chatgpt.com/s/t_686901e99a648191815170ed3c83083b)."
   ]
  },
  {
   "cell_type": "markdown",
   "id": "801908ff-32f9-4d69-962e-53230d824dd4",
   "metadata": {},
   "source": [
    "An analogy of function calling is that to ask a language model directly to perform a computation is similar to ask someone to make that computation in his head. It's hard! However, if we gave him a calculator, he could solve it quite easily. He needs to know only two things:\n",
    "\n",
    "1. which operation (or function) to use\n",
    "2. which numbers (or arguments) to use"
   ]
  },
  {
   "cell_type": "markdown",
   "id": "8ab52489-ab4b-4d90-8615-bdab768d5a9e",
   "metadata": {},
   "source": [
    "The same is true for doing function calling with a language model. It needs to know which function and which arguments to use."
   ]
  },
  {
   "cell_type": "markdown",
   "id": "818723e6-3807-46a8-bf81-13e11734745b",
   "metadata": {},
   "source": [
    "Let's provide a description of a function to the language model so it knows what's the function name and which are the arguments the function expects. \n",
    "\n",
    "You can provide the description manually (after all it's just **text**) but I will use Pydantic to do that. Here is the description of the `multiply` function"
   ]
  },
  {
   "cell_type": "code",
   "execution_count": 8,
   "id": "2f348e9c-c6c7-405a-b01d-a329e438d652",
   "metadata": {
    "execution": {
     "iopub.execute_input": "2025-07-05T13:18:50.778050Z",
     "iopub.status.busy": "2025-07-05T13:18:50.777021Z",
     "iopub.status.idle": "2025-07-05T13:18:50.788518Z",
     "shell.execute_reply": "2025-07-05T13:18:50.787356Z",
     "shell.execute_reply.started": "2025-07-05T13:18:50.778006Z"
    }
   },
   "outputs": [
    {
     "name": "stdout",
     "output_type": "stream",
     "text": [
      "{\n",
      "    \"type\": \"function\",\n",
      "    \"function\": {\n",
      "        \"name\": \"multiply\",\n",
      "        \"strict\": true,\n",
      "        \"parameters\": {\n",
      "            \"description\": \"Multiply two integers together.\",\n",
      "            \"properties\": {\n",
      "                \"a\": {\n",
      "                    \"description\": \"First integer\",\n",
      "                    \"title\": \"A\",\n",
      "                    \"type\": \"integer\"\n",
      "                },\n",
      "                \"b\": {\n",
      "                    \"description\": \"Second integer\",\n",
      "                    \"title\": \"B\",\n",
      "                    \"type\": \"integer\"\n",
      "                }\n",
      "            },\n",
      "            \"required\": [\n",
      "                \"a\",\n",
      "                \"b\"\n",
      "            ],\n",
      "            \"title\": \"multiply\",\n",
      "            \"type\": \"object\",\n",
      "            \"additionalProperties\": false\n",
      "        },\n",
      "        \"description\": \"Multiply two integers together.\"\n",
      "    }\n",
      "}\n"
     ]
    }
   ],
   "source": [
    "#| code-fold: true\n",
    "#| code-summary: \"Show the code\"\n",
    "from pydantic import BaseModel, Field\n",
    "import json\n",
    "from openai import pydantic_function_tool\n",
    "\n",
    "class multiply(BaseModel):\n",
    "    \"\"\"Multiply two integers together.\"\"\"\n",
    "\n",
    "    a: int = Field(..., description=\"First integer\")\n",
    "    b: int = Field(..., description=\"Second integer\")\n",
    "\n",
    "tool = pydantic_function_tool(multiply)\n",
    "print(json.dumps(tool, indent=4))"
   ]
  },
  {
   "cell_type": "markdown",
   "id": "0985bb23-1063-4102-841e-3335a6c2c873",
   "metadata": {},
   "source": [
    "After we have provided a function/tool description, we can see if the model knows what to do with it:"
   ]
  },
  {
   "cell_type": "code",
   "execution_count": 16,
   "id": "8aaee000-e81d-44fa-a6d2-3cf4f71f3e39",
   "metadata": {
    "execution": {
     "iopub.execute_input": "2025-07-05T13:34:03.891573Z",
     "iopub.status.busy": "2025-07-05T13:34:03.890878Z",
     "iopub.status.idle": "2025-07-05T13:34:04.878308Z",
     "shell.execute_reply": "2025-07-05T13:34:04.877607Z",
     "shell.execute_reply.started": "2025-07-05T13:34:03.891529Z"
    }
   },
   "outputs": [
    {
     "name": "stdout",
     "output_type": "stream",
     "text": [
      "<tool_call>\n",
      "{\"name\": \"multiply\", \"arguments\": {\"a\": 1234567, \"b\": 8765432}}\n",
      "</tool_call>\n"
     ]
    }
   ],
   "source": [
    "#| code-fold: true\n",
    "#| code-summary: \"Show the code\"\n",
    "prompt = tokenizer.apply_chat_template(\n",
    "    messages, tools=[tool], tokenize=False, add_generation_prompt=True, enable_thinking=False\n",
    ")\n",
    "model_inputs = tokenizer(prompt, return_tensors=\"pt\").to(\"cuda\")\n",
    "prompt_length = model_inputs[\"input_ids\"].shape[1]\n",
    "outputs = model.generate(\n",
    "    **model_inputs,\n",
    "    max_new_tokens=1024,\n",
    "    do_sample=False,\n",
    "    temperature=1.0,\n",
    "    top_p=1.0,\n",
    "    top_k=50,\n",
    ")\n",
    "assistant_response = tokenizer.decode(outputs[0][prompt_length:], skip_special_tokens=True)\n",
    "print(assistant_response)"
   ]
  },
  {
   "cell_type": "markdown",
   "id": "5ab4a8c1-2aea-4c65-a5c1-3aa24d0a61f7",
   "metadata": {},
   "source": [
    "Even this small model is able to get correctly:\n",
    "\n",
    "- the function name (`multiply`)\n",
    "- the arguments to provide to the function (`1234567` and `8765432`)"
   ]
  },
  {
   "cell_type": "markdown",
   "id": "33cda6b3-d889-4dfd-aa81-2a3ae44e2246",
   "metadata": {},
   "source": [
    "Notice that we have not yet implemented the function itself (!), which we might or might not do (as we will see in other examples next)."
   ]
  },
  {
   "cell_type": "markdown",
   "id": "262d82a5-ea58-4fea-bc8c-60ad6427c9b8",
   "metadata": {},
   "source": [
    "We can get the assistant response and simply do the multiplication ourselves. This is important, what we call function calling in reality is the model telling us which function to call and which arguments to provide to that function. It is up to us to run or not that function. In this case, we will run it:"
   ]
  },
  {
   "cell_type": "code",
   "execution_count": 18,
   "id": "3c138f21-a482-4d7d-9aa5-045587ff299a",
   "metadata": {
    "execution": {
     "iopub.execute_input": "2025-07-05T13:35:29.320688Z",
     "iopub.status.busy": "2025-07-05T13:35:29.319706Z",
     "iopub.status.idle": "2025-07-05T13:35:29.328869Z",
     "shell.execute_reply": "2025-07-05T13:35:29.327574Z",
     "shell.execute_reply.started": "2025-07-05T13:35:29.320641Z"
    }
   },
   "outputs": [
    {
     "name": "stdout",
     "output_type": "stream",
     "text": [
      "10,821,513,087,944\n"
     ]
    }
   ],
   "source": [
    "#| code-fold: true\n",
    "#| code-summary: \"Show the code\"\n",
    "assistant_response_clean = assistant_response.split(\"<tool_call>\")[-1].split(\"</tool_call>\")[0]\n",
    "assistant_response_json = json.loads(assistant_response_clean)\n",
    "\n",
    "def execute_function_call(assistant_response_json):\n",
    "    if assistant_response_json['name'] == 'multiply':\n",
    "        tool_response = assistant_response_json['arguments']['a']*assistant_response_json['arguments']['b']\n",
    "    else:\n",
    "        tool_response = assistant_response_clean\n",
    "    return tool_response\n",
    "\n",
    "tool_response = execute_function_call(assistant_response_json)\n",
    "print(f\"{tool_response:,}\")"
   ]
  },
  {
   "cell_type": "markdown",
   "id": "783cf8a7-3491-472a-ab43-7dd1576add51",
   "metadata": {},
   "source": [
    "This is great. We already got the correct answer! However, we usually want to have a more \"human\" response. To do that we can append two messages (a message for the function call and another for the tool response:"
   ]
  },
  {
   "cell_type": "code",
   "execution_count": 19,
   "id": "4689cbf2-80cb-4f5d-a03a-a547bbb18929",
   "metadata": {
    "execution": {
     "iopub.execute_input": "2025-07-05T13:35:38.564718Z",
     "iopub.status.busy": "2025-07-05T13:35:38.563750Z",
     "iopub.status.idle": "2025-07-05T13:35:38.570918Z",
     "shell.execute_reply": "2025-07-05T13:35:38.569931Z",
     "shell.execute_reply.started": "2025-07-05T13:35:38.564675Z"
    }
   },
   "outputs": [],
   "source": [
    "#| code-fold: true\n",
    "#| code-summary: \"Show the code\"\n",
    "messages.append({\n",
    "    \"role\": \"assistant\",\n",
    "    \"content\": \"\",\n",
    "    \"function_call\": None,\n",
    "    \"tool_calls\": [{\n",
    "        \"name\": assistant_response_json[\"name\"],\n",
    "        \"arguments\": assistant_response_json[\"arguments\"],\n",
    "    }],\n",
    "})\n",
    "\n",
    "messages.append(\n",
    "    {\n",
    "        \"role\": \"tool\",\n",
    "        \"content\": f\"{tool_response}\",\n",
    "    }\n",
    ")"
   ]
  },
  {
   "cell_type": "markdown",
   "id": "5bf1f563-cc90-4a10-a04b-713fd395de94",
   "metadata": {},
   "source": [
    "Since we have full control in this setting, we can actually see what's the **text** the language model is receiving as input:"
   ]
  },
  {
   "cell_type": "code",
   "execution_count": 20,
   "id": "9ed40908-724e-43c7-8909-8545dba7e46a",
   "metadata": {
    "execution": {
     "iopub.execute_input": "2025-07-05T13:36:25.497575Z",
     "iopub.status.busy": "2025-07-05T13:36:25.496952Z",
     "iopub.status.idle": "2025-07-05T13:36:25.504911Z",
     "shell.execute_reply": "2025-07-05T13:36:25.503858Z",
     "shell.execute_reply.started": "2025-07-05T13:36:25.497530Z"
    }
   },
   "outputs": [
    {
     "name": "stdout",
     "output_type": "stream",
     "text": [
      "<|im_start|>system\n",
      "# Tools\n",
      "\n",
      "You may call one or more functions to assist with the user query.\n",
      "\n",
      "You are provided with function signatures within <tools></tools> XML tags:\n",
      "<tools>\n",
      "{\"type\": \"function\", \"function\": {\"name\": \"multiply\", \"strict\": true, \"parameters\": {\"description\": \"Multiply two integers together.\", \"properties\": {\"a\": {\"description\": \"First integer\", \"title\": \"A\", \"type\": \"integer\"}, \"b\": {\"description\": \"Second integer\", \"title\": \"B\", \"type\": \"integer\"}}, \"required\": [\"a\", \"b\"], \"title\": \"multiply\", \"type\": \"object\", \"additionalProperties\": false}, \"description\": \"Multiply two integers together.\"}}\n",
      "</tools>\n",
      "\n",
      "For each function call, return a json object with function name and arguments within <tool_call></tool_call> XML tags:\n",
      "<tool_call>\n",
      "{\"name\": <function-name>, \"arguments\": <args-json-object>}\n",
      "</tool_call><|im_end|>\n",
      "<|im_start|>user\n",
      "What's 1234567 times 8765432?<|im_end|>\n",
      "<|im_start|>assistant\n",
      "<tool_call>\n",
      "{\"name\": \"multiply\", \"arguments\": {\"a\": 1234567, \"b\": 8765432}}\n",
      "</tool_call><|im_end|>\n",
      "<|im_start|>user\n",
      "<tool_response>\n",
      "10821513087944\n",
      "</tool_response><|im_end|>\n",
      "<|im_start|>assistant\n",
      "<think>\n",
      "\n",
      "</think>\n",
      "\n",
      "\n"
     ]
    }
   ],
   "source": [
    "#| code-fold: true\n",
    "#| code-summary: \"Show the code\"\n",
    "prompt = tokenizer.apply_chat_template(\n",
    "    messages,\n",
    "    tools=[tool],\n",
    "    tokenize=False,\n",
    "    add_generation_prompt=True,\n",
    "    enable_thinking=False,\n",
    ")\n",
    "print(prompt)"
   ]
  },
  {
   "cell_type": "markdown",
   "id": "4ec4337c-c86b-468d-a0b0-3f54e70566f2",
   "metadata": {},
   "source": [
    "We can then make a call to the model to provide a \"human\" response:"
   ]
  },
  {
   "cell_type": "code",
   "execution_count": 21,
   "id": "0a551d55-6fff-42bb-bdff-b66b589b5681",
   "metadata": {
    "execution": {
     "iopub.execute_input": "2025-07-05T13:45:21.954271Z",
     "iopub.status.busy": "2025-07-05T13:45:21.953661Z",
     "iopub.status.idle": "2025-07-05T13:45:22.844021Z",
     "shell.execute_reply": "2025-07-05T13:45:22.843329Z",
     "shell.execute_reply.started": "2025-07-05T13:45:21.954227Z"
    }
   },
   "outputs": [
    {
     "name": "stdout",
     "output_type": "stream",
     "text": [
      "1234567 × 8765432 = 10821513087944\n"
     ]
    }
   ],
   "source": [
    "#| code-fold: true\n",
    "#| code-summary: \"Show the code\"\n",
    "model_inputs = tokenizer(prompt, return_tensors=\"pt\").to(\"cuda\")\n",
    "prompt_length = model_inputs[\"input_ids\"].shape[1]\n",
    "outputs = model.generate(\n",
    "    **model_inputs,\n",
    "    max_new_tokens=1024,\n",
    "    do_sample=False,\n",
    "    temperature=1.0,\n",
    "    top_p=1.0,\n",
    "    top_k=50,\n",
    ")\n",
    "assistant_response = tokenizer.decode(outputs[0][prompt_length:], skip_special_tokens=True)\n",
    "print(assistant_response)"
   ]
  },
  {
   "cell_type": "markdown",
   "id": "c6740919-17ce-4da5-9a68-57e34873738f",
   "metadata": {},
   "source": [
    "OK, this response is correct and more \"human\". It could be improved but that's because it's a very small model."
   ]
  },
  {
   "cell_type": "markdown",
   "id": "03090f17-e0c4-40df-9e31-ef158f03cd13",
   "metadata": {},
   "source": [
    "I hope you realize that even a small language model (in this example, with 0.6B parameters) provided with a function/tool can answer better that question than a powerful model such as GPT-4o-mini.\n",
    "\n",
    "That's powerful!"
   ]
  },
  {
   "cell_type": "markdown",
   "id": "d2f27e52-acb9-428c-a87a-f4062819d76f",
   "metadata": {},
   "source": [
    "## Language Model Using Python"
   ]
  },
  {
   "cell_type": "markdown",
   "id": "9e32f01b-c61f-4cd8-803c-918811eed246",
   "metadata": {},
   "source": [
    "In our basic example, we used a very tailored function because I wanted to show that function calling can use several arguments. We can however provided with a Python REPL which will allow us to use a pletora of tools in Python. Here is a description of a Python REPL:"
   ]
  },
  {
   "cell_type": "code",
   "execution_count": 24,
   "id": "8b2b26ad-d658-418d-b064-70407da244b7",
   "metadata": {
    "execution": {
     "iopub.execute_input": "2025-07-05T13:51:22.313787Z",
     "iopub.status.busy": "2025-07-05T13:51:22.313143Z",
     "iopub.status.idle": "2025-07-05T13:51:22.324261Z",
     "shell.execute_reply": "2025-07-05T13:51:22.323256Z",
     "shell.execute_reply.started": "2025-07-05T13:51:22.313743Z"
    }
   },
   "outputs": [
    {
     "name": "stdout",
     "output_type": "stream",
     "text": [
      "{\n",
      "    \"type\": \"function\",\n",
      "    \"function\": {\n",
      "        \"name\": \"Python_REPL\",\n",
      "        \"strict\": true,\n",
      "        \"parameters\": {\n",
      "            \"description\": \"A Python shell. Use this to execute python commands. Input should be a valid python command. If you want to see the output of a value, you should print it out with `print(...)`.\",\n",
      "            \"properties\": {\n",
      "                \"python_code\": {\n",
      "                    \"description\": \"Valid python command.\",\n",
      "                    \"title\": \"Python Code\",\n",
      "                    \"type\": \"string\"\n",
      "                }\n",
      "            },\n",
      "            \"required\": [\n",
      "                \"python_code\"\n",
      "            ],\n",
      "            \"title\": \"Python_REPL\",\n",
      "            \"type\": \"object\",\n",
      "            \"additionalProperties\": false\n",
      "        },\n",
      "        \"description\": \"A Python shell. Use this to execute python commands. Input should be a valid python command. If you want to see the output of a value, you should print it out with `print(...)`.\"\n",
      "    }\n",
      "}\n"
     ]
    }
   ],
   "source": [
    "#| code-fold: true\n",
    "#| code-summary: \"Show the code\"\n",
    "class Python_REPL(BaseModel):\n",
    "    \"A Python shell. Use this to execute python commands. Input should be a valid python command. If you want to see the output of a value, you should print it out with `print(...)`.\"\n",
    "\n",
    "    python_code: str = Field(..., description=\"Valid python command.\")\n",
    "\n",
    "tool = pydantic_function_tool(Python_REPL)\n",
    "print(json.dumps(tool, indent=4))"
   ]
  },
  {
   "cell_type": "markdown",
   "id": "53d01d89-5781-47be-b3b5-07d231b1dd7e",
   "metadata": {},
   "source": [
    "We can ask our model to, for example, `make a bar plot`. In this case, the language model couldn't figure out what to do:"
   ]
  },
  {
   "cell_type": "code",
   "execution_count": 27,
   "id": "2dd18fa2-688c-4349-95a4-512f46974b06",
   "metadata": {
    "execution": {
     "iopub.execute_input": "2025-07-05T13:52:23.305767Z",
     "iopub.status.busy": "2025-07-05T13:52:23.304682Z",
     "iopub.status.idle": "2025-07-05T13:52:24.125488Z",
     "shell.execute_reply": "2025-07-05T13:52:24.125001Z",
     "shell.execute_reply.started": "2025-07-05T13:52:23.305714Z"
    }
   },
   "outputs": [
    {
     "name": "stdout",
     "output_type": "stream",
     "text": [
      "I cannot make a bar plot directly, but I can help you create one using Python. Could you please provide the data you want to plot?\n"
     ]
    }
   ],
   "source": [
    "#| code-fold: true\n",
    "#| code-summary: \"Show the code\"\n",
    "messages = [\n",
    "    {\"role\": \"user\", \"content\": \"Make a bar plot\"},\n",
    "]\n",
    "\n",
    "prompt = tokenizer.apply_chat_template(\n",
    "    messages, tools=[tool], tokenize=False, add_generation_prompt=True, enable_thinking=False\n",
    ")\n",
    "model_inputs = tokenizer(prompt, return_tensors=\"pt\").to(\"cuda\")\n",
    "prompt_length = model_inputs[\"input_ids\"].shape[1]\n",
    "outputs = model.generate(\n",
    "    **model_inputs,\n",
    "    max_new_tokens=1024,\n",
    "    do_sample=False,\n",
    "    temperature=1.0,\n",
    "    top_p=1.0,\n",
    "    top_k=50,\n",
    ")\n",
    "assistant_response = tokenizer.decode(outputs[0][prompt_length:], skip_special_tokens=True)\n",
    "print(assistant_response)"
   ]
  },
  {
   "cell_type": "markdown",
   "id": "9a083efc-a0f1-43b1-be7d-e55050183e48",
   "metadata": {},
   "source": [
    "The model was unable to call the tool but we can help it by adding it directly to the prompt (notice that this is equivalent to `add_generation_prompt=True` when we apply the chat template). This is probably [what OpenAI does](https://platform.openai.com/docs/guides/function-calling/function-calling-behavior?api-mode=chat#additional-configurations) with the option `tool_choice=required` and we could even impose which tool to call which is probably equivalent to the forced function option that OpenAI provides). Let's add the tool call directly to the prompt:"
   ]
  },
  {
   "cell_type": "code",
   "execution_count": 28,
   "id": "d21ebcca-9fc8-4d23-bdbb-7295fcb51628",
   "metadata": {
    "execution": {
     "iopub.execute_input": "2025-07-05T13:58:50.239544Z",
     "iopub.status.busy": "2025-07-05T13:58:50.238315Z",
     "iopub.status.idle": "2025-07-05T13:58:51.658604Z",
     "shell.execute_reply": "2025-07-05T13:58:51.657899Z",
     "shell.execute_reply.started": "2025-07-05T13:58:50.239484Z"
    }
   },
   "outputs": [
    {
     "name": "stdout",
     "output_type": "stream",
     "text": [
      "<tool_call>\n",
      "{\"name\": \"Python_REPL\", \"arguments\": {\"python_code\": \"import matplotlib.pyplot as plt\\nplt.bar([1, 2, 3], [10, 20, 30])\\nplt.show()\"}}\n",
      "</tool_call>\n"
     ]
    }
   ],
   "source": [
    "#| code-fold: true\n",
    "#| code-summary: \"Show the code\"\n",
    "prompt += \"<tool_call>\" # added directly to the prompt\n",
    "model_inputs = tokenizer(prompt, return_tensors=\"pt\").to(\"cuda\")\n",
    "prompt_length = model_inputs[\"input_ids\"].shape[1]\n",
    "outputs = model.generate(\n",
    "    **model_inputs,\n",
    "    max_new_tokens=1024,\n",
    "    do_sample=False,\n",
    "    temperature=1.0,\n",
    "    top_p=1.0,\n",
    "    top_k=50,\n",
    ")\n",
    "assistant_response = \"<tool_call>\" + tokenizer.decode(outputs[0][prompt_length:], skip_special_tokens=True) # it was added to the prompt\n",
    "print(assistant_response)"
   ]
  },
  {
   "cell_type": "markdown",
   "id": "815f6b53-84e2-4e46-b796-e9cefcb4c22d",
   "metadata": {},
   "source": [
    "This small model was able to provide the code to do a bar plot. It is up to us to run or not that code. In this case, we will run it:"
   ]
  },
  {
   "cell_type": "code",
   "execution_count": 34,
   "id": "9fcd891b-058c-4b33-b1d0-f57b7550024d",
   "metadata": {
    "execution": {
     "iopub.execute_input": "2025-07-05T14:04:43.527615Z",
     "iopub.status.busy": "2025-07-05T14:04:43.527085Z",
     "iopub.status.idle": "2025-07-05T14:04:43.623275Z",
     "shell.execute_reply": "2025-07-05T14:04:43.622510Z",
     "shell.execute_reply.started": "2025-07-05T14:04:43.527569Z"
    }
   },
   "outputs": [
    {
     "data": {
      "image/png": "[encoded data removed]",
      "text/plain": [
       "<Figure size 640x480 with 1 Axes>"
      ]
     },
     "metadata": {},
     "output_type": "display_data"
    }
   ],
   "source": [
    "#| code-fold: true\n",
    "#| code-summary: \"Show the code\"\n",
    "assistant_response_clean = assistant_response.split(\"<tool_call>\")[-1].split(\"</tool_call>\")[0]\n",
    "assistant_response_json = json.loads(assistant_response_clean)\n",
    "\n",
    "def execute_function_call(assistant_response_json):\n",
    "    if assistant_response_json['name'] == 'Python_REPL':\n",
    "        tool_response = exec(assistant_response_json['arguments']['python_code'])\n",
    "    else:\n",
    "        tool_response = assistant_response_json\n",
    "    return tool_response\n",
    "\n",
    "execute_function_call(assistant_response_json)"
   ]
  },
  {
   "cell_type": "markdown",
   "id": "4c245aac-a9bc-4f05-ace1-eb26f39062a8",
   "metadata": {},
   "source": [
    "By imposing that the language model needs to call a tool, we cannot let the model to respond to a conversational question. For example to `tell us a joke`:"
   ]
  },
  {
   "cell_type": "code",
   "execution_count": 36,
   "id": "0c737216-ce27-4b3b-954e-7056a72ec053",
   "metadata": {
    "execution": {
     "iopub.execute_input": "2025-07-05T14:06:02.730176Z",
     "iopub.status.busy": "2025-07-05T14:06:02.729094Z",
     "iopub.status.idle": "2025-07-05T14:06:03.486940Z",
     "shell.execute_reply": "2025-07-05T14:06:03.486251Z",
     "shell.execute_reply.started": "2025-07-05T14:06:02.730131Z"
    }
   },
   "outputs": [
    {
     "name": "stdout",
     "output_type": "stream",
     "text": [
      "<tool_call>\n",
      "{\"name\": \"Python_REPL\", \"arguments\": {\"python_code\": \"print('Hello, world!')\"}}\n",
      "</tool_call>\n"
     ]
    }
   ],
   "source": [
    "#| code-fold: true\n",
    "#| code-summary: \"Show the code\"\n",
    "messages = [\n",
    "    {\"role\": \"user\", \"content\": \"Tell me a joke\"},\n",
    "]\n",
    "\n",
    "prompt = tokenizer.apply_chat_template(\n",
    "    messages, tools=[tool], tokenize=False, add_generation_prompt=True, enable_thinking=False\n",
    ")\n",
    "prompt += \"<tool_call>\" # imposed tool call\n",
    "model_inputs = tokenizer(prompt, return_tensors=\"pt\").to(\"cuda\")\n",
    "prompt_length = model_inputs[\"input_ids\"].shape[1]\n",
    "outputs = model.generate(\n",
    "    **model_inputs,\n",
    "    max_new_tokens=1024,\n",
    "    do_sample=False,\n",
    "    temperature=1.0,\n",
    "    top_p=1.0,\n",
    "    top_k=50,\n",
    ")\n",
    "assistant_response = \"<tool_call>\" + tokenizer.decode(outputs[0][prompt_length:], skip_special_tokens=True)\n",
    "print(assistant_response)"
   ]
  },
  {
   "cell_type": "markdown",
   "id": "e1108f58-121e-45b6-963a-a51d750120c8",
   "metadata": {},
   "source": [
    "We could use a trick. We could provide a \"tool\" to get back that behavior. Let's give a description of that \"tool\":"
   ]
  },
  {
   "cell_type": "code",
   "execution_count": 38,
   "id": "11ed5f67-a15e-489a-8666-3c4b97f7c640",
   "metadata": {
    "execution": {
     "iopub.execute_input": "2025-07-05T14:08:01.962114Z",
     "iopub.status.busy": "2025-07-05T14:08:01.961463Z",
     "iopub.status.idle": "2025-07-05T14:08:01.972977Z",
     "shell.execute_reply": "2025-07-05T14:08:01.971600Z",
     "shell.execute_reply.started": "2025-07-05T14:08:01.962067Z"
    }
   },
   "outputs": [
    {
     "name": "stdout",
     "output_type": "stream",
     "text": [
      "{\n",
      "    \"type\": \"function\",\n",
      "    \"function\": {\n",
      "        \"name\": \"ConversationalResponse\",\n",
      "        \"strict\": true,\n",
      "        \"parameters\": {\n",
      "            \"description\": \"Respond in a conversational manner. Be kind and helpful.\",\n",
      "            \"properties\": {\n",
      "                \"response\": {\n",
      "                    \"description\": \"A conversational response to the user's query\",\n",
      "                    \"title\": \"Response\",\n",
      "                    \"type\": \"string\"\n",
      "                }\n",
      "            },\n",
      "            \"required\": [\n",
      "                \"response\"\n",
      "            ],\n",
      "            \"title\": \"ConversationalResponse\",\n",
      "            \"type\": \"object\",\n",
      "            \"additionalProperties\": false\n",
      "        },\n",
      "        \"description\": \"Respond in a conversational manner. Be kind and helpful.\"\n",
      "    }\n",
      "}\n"
     ]
    }
   ],
   "source": [
    "#| code-fold: true\n",
    "#| code-summary: \"Show the code\"\n",
    "class ConversationalResponse(BaseModel):\n",
    "    \"\"\"Respond in a conversational manner. Be kind and helpful.\"\"\"\n",
    "\n",
    "    response: str = Field(description=\"A conversational response to the user's query\")\n",
    "tool_conversational_response = pydantic_function_tool(ConversationalResponse)\n",
    "print(json.dumps(tool_conversational_response, indent=4))"
   ]
  },
  {
   "cell_type": "code",
   "execution_count": 39,
   "id": "f19663d4-5721-4871-9581-7c8edbcc5318",
   "metadata": {
    "execution": {
     "iopub.execute_input": "2025-07-05T14:10:45.936780Z",
     "iopub.status.busy": "2025-07-05T14:10:45.936062Z",
     "iopub.status.idle": "2025-07-05T14:10:47.706936Z",
     "shell.execute_reply": "2025-07-05T14:10:47.706210Z",
     "shell.execute_reply.started": "2025-07-05T14:10:45.936728Z"
    }
   },
   "outputs": [
    {
     "name": "stdout",
     "output_type": "stream",
     "text": [
      "<tool_call>\n",
      "{\"name\": \"ConversationalResponse\", \"arguments\": {\"response\": \"Here's a joke for you: A man in a hat with a hat on it, a hat with a hat on it, and a hat with a hat on it... It's a hat with a hat on it!\"}}\n",
      "</tool_call>\n"
     ]
    }
   ],
   "source": [
    "#| code-fold: true\n",
    "#| code-summary: \"Show the code\"\n",
    "messages = [\n",
    "    {\"role\": \"user\", \"content\": \"Tell me a joke\"},\n",
    "]\n",
    "\n",
    "prompt = tokenizer.apply_chat_template(\n",
    "    messages, tools=[tool, tool_conversational_response], tokenize=False, add_generation_prompt=True, enable_thinking=False\n",
    ")\n",
    "prompt += \"<tool_call>\" # imposed tool call\n",
    "model_inputs = tokenizer(prompt, return_tensors=\"pt\").to(\"cuda\")\n",
    "prompt_length = model_inputs[\"input_ids\"].shape[1]\n",
    "outputs = model.generate(\n",
    "    **model_inputs,\n",
    "    max_new_tokens=1024,\n",
    "    do_sample=False,\n",
    "    temperature=1.0,\n",
    "    top_p=1.0,\n",
    "    top_k=50,\n",
    ")\n",
    "assistant_response = \"<tool_call>\" + tokenizer.decode(outputs[0][prompt_length:], skip_special_tokens=True)\n",
    "print(assistant_response)"
   ]
  },
  {
   "cell_type": "code",
   "execution_count": 40,
   "id": "e3cb925e-49d1-4788-8f64-346282b9b193",
   "metadata": {
    "execution": {
     "iopub.execute_input": "2025-07-05T14:13:19.348424Z",
     "iopub.status.busy": "2025-07-05T14:13:19.347656Z",
     "iopub.status.idle": "2025-07-05T14:13:19.359192Z",
     "shell.execute_reply": "2025-07-05T14:13:19.358010Z",
     "shell.execute_reply.started": "2025-07-05T14:13:19.348374Z"
    }
   },
   "outputs": [
    {
     "data": {
      "text/plain": [
       "\"Here's a joke for you: A man in a hat with a hat on it, a hat with a hat on it, and a hat with a hat on it... It's a hat with a hat on it!\""
      ]
     },
     "execution_count": 40,
     "metadata": {},
     "output_type": "execute_result"
    }
   ],
   "source": [
    "assistant_response_clean = assistant_response.split(\"<tool_call>\")[-1].split(\"</tool_call>\")[0]\n",
    "assistant_response_json = json.loads(assistant_response_clean)\n",
    "\n",
    "def execute_function_call(assistant_response_json):\n",
    "    if assistant_response_json['name'] == 'Python_REPL':\n",
    "        tool_response = exec(assistant_response_json['arguments']['python_code'])\n",
    "    elif assistant_response_json['name'] == 'ConversationalResponse':\n",
    "        tool_response = assistant_response_json['arguments']['response']\n",
    "    else:\n",
    "        tool_response = assistant_response_json\n",
    "    return tool_response\n",
    "\n",
    "execute_function_call(assistant_response_json)"
   ]
  },
  {
   "cell_type": "markdown",
   "id": "5393a3b8-4739-4e27-a572-dc57280675f3",
   "metadata": {},
   "source": [
    "Not clear that it's a good joke but we got back the behavior we were expecting."
   ]
  },
  {
   "cell_type": "markdown",
   "id": "6012fbf2-0d0c-4dd0-b9da-a3bffc63cc55",
   "metadata": {},
   "source": [
    "## WebAssembly"
   ]
  },
  {
   "cell_type": "markdown",
   "id": "076e9fec-6d1c-4fbd-931e-9eb96a5ed14a",
   "metadata": {},
   "source": [
    "We can run the previous code in the browser thanks to WebAssembly!"
   ]
  },
  {
   "cell_type": "markdown",
   "id": "e57e9641-fc03-45ae-a99b-afe5b1f52bab",
   "metadata": {},
   "source": [
    "We first need to install some packages:"
   ]
  },
  {
   "cell_type": "markdown",
   "id": "e1aaed0e-491b-40fa-8cfe-e1902d15ce1f",
   "metadata": {},
   "source": [
    "```{pyodide-python}\n",
    "import micropip\n",
    "\n",
    "await micropip.install(\"numpy\")\n",
    "await micropip.install(\"matplotlib\")\n",
    "await micropip.install(\"openai\")\n",
    "await micropip.install(\"transformers_js_py\")\n",
    "print(\"Packages installation completed.\")\n",
    "```"
   ]
  },
  {
   "cell_type": "markdown",
   "id": "63ecfe30-d3a3-4529-80a1-c268de2a2638",
   "metadata": {},
   "source": [
    "We can download a quantized version of the model we used (not everything will work but most of it will). This step should take a few minutes the first time (later it should be stored in the cache):"
   ]
  },
  {
   "cell_type": "markdown",
   "id": "e57ed56d-53e8-456b-935c-abff9a8a6404",
   "metadata": {},
   "source": [
    "```{pyodide-python}\n",
    "import json\n",
    "import numpy as np\n",
    "from transformers_js_py import import_transformers_js\n",
    "from openai import pydantic_function_tool\n",
    "from pydantic import BaseModel, Field\n",
    "\n",
    "transformers = await import_transformers_js()\n",
    "\n",
    "model_id = 'onnx-community/Qwen3-0.6B-ONNX'\n",
    "\n",
    "AutoTokenizer = transformers.AutoTokenizer\n",
    "tokenizer = await AutoTokenizer.from_pretrained(model_id)\n",
    "\n",
    "AutoModelForCausalLM = transformers.AutoModelForCausalLM\n",
    "model = await AutoModelForCausalLM.from_pretrained(model_id)\n",
    "print(\"Model downloaded.\")\n",
    "```"
   ]
  },
  {
   "cell_type": "markdown",
   "id": "da7ce62e-9c1a-4c62-a5b6-bcf518ca9461",
   "metadata": {},
   "source": [
    "We can send a prompt:"
   ]
  },
  {
   "cell_type": "markdown",
   "id": "dcd2685f-e11d-46ef-9852-c9694994c10e",
   "metadata": {},
   "source": [
    "```{pyodide-python}\n",
    "user_input = \"Make a bar plot with values 1, 2, and 3\"\n",
    "print(\"Prompt received.\")\n",
    "```"
   ]
  },
  {
   "cell_type": "markdown",
   "id": "cb1a8417-df59-475a-9045-3bcabff3a125",
   "metadata": {},
   "source": [
    "We can define the tools and tokenize the prompt:"
   ]
  },
  {
   "attachments": {},
   "cell_type": "markdown",
   "id": "2de1a7ef-9ae3-4f19-9a33-2bb24ffb00df",
   "metadata": {},
   "source": [
    "```{pyodide-python}\n",
    "messages = [\n",
    "    {\"role\": \"user\", \"content\": user_input},\n",
    "]\n",
    "\n",
    "class Python_REPL(BaseModel):\n",
    "    \"A Python shell. Use this to execute python commands. Input should be a valid python command. If you want to see the output of a value, you should print it out with `print(...)`.\"\n",
    "\n",
    "    python_code: str = Field(..., description=\"Valid python command.\")\n",
    "\n",
    "tool_Python_REPL = pydantic_function_tool(Python_REPL)\n",
    "\n",
    "print(\"Tool definition ready.\")\n",
    "\n",
    "prompt = tokenizer.apply_chat_template(\n",
    "    messages, tools=[tool_Python_REPL], tokenize=False, add_generation_prompt=True, enable_thinking=False\n",
    ")\n",
    "prompt += \"<tool_call>\" # imposed tool call\n",
    "\n",
    "inputs = tokenizer(prompt)\n",
    "\n",
    "up = np.array(inputs[\"input_ids\"].tolist(), dtype=np.uint32)\n",
    "prompt_length = up.shape[1]\n",
    "print(\"Prompt tokenized.\")\n",
    "```"
   ]
  },
  {
   "cell_type": "markdown",
   "id": "51e8e0b7-9880-4164-9b14-805b6f778577",
   "metadata": {},
   "source": [
    "This is the generation part and it can take one or two minutes:"
   ]
  },
  {
   "cell_type": "markdown",
   "id": "beb3ed0b-0b6b-4dd2-bca4-1f1639d6b0df",
   "metadata": {},
   "source": [
    "```{pyodide-python}\n",
    "outputs = await model.generate(\n",
    "    **inputs, max_new_tokens=1024, do_sample=False\n",
    ")\n",
    "\n",
    "print(\"outputs ready.\")\n",
    "```"
   ]
  },
  {
   "cell_type": "markdown",
   "id": "ca835aa1-d60b-4d68-97d8-dba541bc5378",
   "metadata": {},
   "source": [
    "This is the generated code:"
   ]
  },
  {
   "cell_type": "markdown",
   "id": "b5598180-2d1e-497a-9bd8-ea9880284335",
   "metadata": {},
   "source": [
    "```{pyodide-python}\n",
    "ar = np.array(outputs.tolist(), dtype=np.uint32)\n",
    "assistant_response = \"<tool_call>\" + tokenizer.decode([int(token) for token in ar[0]][prompt_length:], skip_special_tokens=True)\n",
    "print(assistant_response)\n",
    "```"
   ]
  },
  {
   "cell_type": "markdown",
   "id": "e73bb014-d9f9-47a7-9648-1b8e82cc3093",
   "metadata": {},
   "source": [
    "We can execute the code:"
   ]
  },
  {
   "cell_type": "markdown",
   "id": "4300a9b1-e044-4d96-9159-f17e44f42fa3",
   "metadata": {},
   "source": [
    "```{pyodide-python}\n",
    "def execute_function_call(assistant_response):\n",
    "    assistant_response_clean = assistant_response.split(\"<tool_call>\")[-1].split(\"</tool_call>\")[0]\n",
    "    assistant_response_json = json.loads(assistant_response_clean)\n",
    "    if assistant_response_json['name'] == 'Python_REPL':\n",
    "        tool_response = exec(assistant_response_json['arguments']['python_code'])\n",
    "    elif assistant_response_json['name'] == 'ConversationalResponse':\n",
    "        tool_response = assistant_response_json['arguments']['response']\n",
    "    else:\n",
    "        tool_response = assistant_response_json\n",
    "    return tool_response\n",
    "\n",
    "execute_function_call(assistant_response)\n",
    "```"
   ]
  },
  {
   "cell_type": "markdown",
   "id": "d515b422-5ffd-4d8e-946d-e848d4c6db6f",
   "metadata": {},
   "source": [
    "Feel free to modify the code and/or prompts and run them in the browser!"
   ]
  },
  {
   "cell_type": "code",
   "execution_count": null,
   "id": "d28674f7-ec7e-46e1-9362-e7cdbeb87bf8",
   "metadata": {},
   "outputs": [],
   "source": []
  }
 ],
 "metadata": {
  "kernelspec": {
   "display_name": "Python 3 (ipykernel)",
   "language": "python",
   "name": "python3"
  },
  "language_info": {
   "codemirror_mode": {
    "name": "ipython",
    "version": 3
   },
   "file_extension": ".py",
   "mimetype": "text/x-python",
   "name": "python",
   "nbconvert_exporter": "python",
   "pygments_lexer": "ipython3",
   "version": "3.12.4"
  }
 },
 "nbformat": 4,
 "nbformat_minor": 5
}
